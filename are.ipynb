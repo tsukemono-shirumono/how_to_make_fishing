{
 "cells": [
  {
   "cell_type": "code",
   "execution_count": null,
   "metadata": {},
   "outputs": [],
   "source": [
    "!pip install ipywidgets"
   ]
  },
  {
   "cell_type": "code",
   "execution_count": 2,
   "metadata": {},
   "outputs": [],
   "source": [
    "import ipywidgets as widgets\n",
    "# import matplotlib.pyplot as plt\n",
    "from IPython.display import display\n",
    "import time"
   ]
  },
  {
   "cell_type": "markdown",
   "metadata": {},
   "source": [
    "# フィッシング詐欺を作ろう!! : 個別のメニューを作る"
   ]
  },
  {
   "cell_type": "code",
   "execution_count": 72,
   "metadata": {},
   "outputs": [
    {
     "data": {
      "application/vnd.jupyter.widget-view+json": {
       "model_id": "2afda058376342229a94342a0efb1564",
       "version_major": 2,
       "version_minor": 0
      },
      "text/plain": [
       "Output(layout=Layout(border='1px solid black'))"
      ]
     },
     "metadata": {},
     "output_type": "display_data"
    }
   ],
   "source": [
    "# 枠を作って文字を出す\n",
    "output=widgets.Output(layout={'border': '1px solid black'})\n",
    "with output:\n",
    "    print(\"親愛なChrome ユーザー様、あなたは10月23,2021のラッキービジターです\")\n",
    "    print(\"アンケートに答えていただいた方に、「ありがとう」を込めてApple iPhone 17 Max Proが当たるチャンスを差し上げます！\")\n",
    "    print(\"\\n問1/4:chromeをどれぐらいの頻度で使いますか\")\n",
    "\n",
    "display(output)"
   ]
  },
  {
   "cell_type": "code",
   "execution_count": 75,
   "metadata": {},
   "outputs": [
    {
     "data": {
      "application/vnd.jupyter.widget-view+json": {
       "model_id": "e6c09875cb1d4599bf7ce049184de561",
       "version_major": 2,
       "version_minor": 0
      },
      "text/plain": [
       "ToggleButtons(description='問1/4', options=('ちょくちょく', 'しばしば', 'ぼちぼち'), value='ちょくちょく')"
      ]
     },
     "metadata": {},
     "output_type": "display_data"
    }
   ],
   "source": [
    "# 選択肢を作ってみる\n",
    "output=widgets.ToggleButtons(\n",
    "    options=['ちょくちょく', 'しばしば', 'ぼちぼち'],\n",
    "    description=\"問1/4\"\n",
    ")\n",
    "display(output)"
   ]
  },
  {
   "cell_type": "code",
   "execution_count": 79,
   "metadata": {},
   "outputs": [
    {
     "data": {
      "application/vnd.jupyter.widget-view+json": {
       "model_id": "939e25413a024a1980627ebb2fb48447",
       "version_major": 2,
       "version_minor": 0
      },
      "text/plain": [
       "Select(description='問1/4', options=('ちょくちょく', 'しばしば', 'ぼちぼち'), value='ちょくちょく')"
      ]
     },
     "metadata": {},
     "output_type": "display_data"
    }
   ],
   "source": [
    "# 選択肢を作ってみる\n",
    "select=widgets.Select(\n",
    "    options=['ちょくちょく', 'しばしば', 'ぼちぼち'],\n",
    "    description=\"問1/4\"\n",
    ")\n",
    "display(select)"
   ]
  },
  {
   "cell_type": "code",
   "execution_count": 80,
   "metadata": {},
   "outputs": [
    {
     "data": {
      "application/vnd.jupyter.widget-view+json": {
       "model_id": "67a9f707e2334f72995e86383959828e",
       "version_major": 2,
       "version_minor": 0
      },
      "text/plain": [
       "RadioButtons(description='問1/4', options=('ちょくちょく', 'しばしば', 'ぼちぼち'), value='ちょくちょく')"
      ]
     },
     "metadata": {},
     "output_type": "display_data"
    }
   ],
   "source": [
    "# 選択肢を作ってみる\n",
    "select=widgets.RadioButtons(\n",
    "    options=['ちょくちょく', 'しばしば', 'ぼちぼち'],\n",
    "    description=\"問1/4\"\n",
    ")\n",
    "display(select)"
   ]
  },
  {
   "cell_type": "code",
   "execution_count": 85,
   "metadata": {},
   "outputs": [
    {
     "data": {
      "application/vnd.jupyter.widget-view+json": {
       "model_id": "4d712b46e0bb4d2185df2407c425d350",
       "version_major": 2,
       "version_minor": 0
      },
      "text/plain": [
       "Button(description='提出', style=ButtonStyle())"
      ]
     },
     "metadata": {},
     "output_type": "display_data"
    }
   ],
   "source": [
    "# ボタンを作ってみる\n",
    "button = widgets.Button(\n",
    "    description='提出',\n",
    ")\n",
    "display(button)"
   ]
  },
  {
   "cell_type": "markdown",
   "metadata": {},
   "source": [
    "# フィッシング詐欺を作ろう!! : 組み合わせる"
   ]
  },
  {
   "cell_type": "code",
   "execution_count": 107,
   "metadata": {},
   "outputs": [
    {
     "data": {
      "application/vnd.jupyter.widget-view+json": {
       "model_id": "66c076135a824e199201f0bfc71a7247",
       "version_major": 2,
       "version_minor": 0
      },
      "text/plain": [
       "Output()"
      ]
     },
     "metadata": {},
     "output_type": "display_data"
    },
    {
     "data": {
      "application/vnd.jupyter.widget-view+json": {
       "model_id": "1775664f55d146eda837123cd5ab0be1",
       "version_major": 2,
       "version_minor": 0
      },
      "text/plain": [
       "RadioButtons(description='問1/4', options=('ちょくちょく', 'しばしば', 'ぼちぼち'), value='ちょくちょく')"
      ]
     },
     "metadata": {},
     "output_type": "display_data"
    },
    {
     "data": {
      "application/vnd.jupyter.widget-view+json": {
       "model_id": "9e03880c834d499ea614060a2a9bce3f",
       "version_major": 2,
       "version_minor": 0
      },
      "text/plain": [
       "Button(description='提出', style=ButtonStyle())"
      ]
     },
     "metadata": {},
     "output_type": "display_data"
    }
   ],
   "source": [
    "# まとめて表示\n",
    "\n",
    "output=widgets.Output()\n",
    "with output:\n",
    "    print(\"親愛なChrome ユーザー様、あなたは10月23,2021のラッキービジターです\")\n",
    "    print(\"アンケートに答えていただいた方に、「ありがとう」を込めてApple iPhone 17 Max Proが当たるチャンスを差し上げます！\")\n",
    "    print(\"\\n問1/4:Chromeをどれぐらいの頻度で使いますか\")\n",
    "select=widgets.RadioButtons(\n",
    "    options=['ちょくちょく', 'しばしば', 'ぼちぼち'],\n",
    "    description=\"問1/4\"\n",
    ")\n",
    "button = widgets.Button(\n",
    "    description='提出',\n",
    ")\n",
    "\n",
    "display(output,select,button)"
   ]
  },
  {
   "cell_type": "code",
   "execution_count": 83,
   "metadata": {},
   "outputs": [
    {
     "data": {
      "application/vnd.jupyter.widget-view+json": {
       "model_id": "6dbf051c4fe74b6f99b08848d6127798",
       "version_major": 2,
       "version_minor": 0
      },
      "text/plain": [
       "VBox(children=(Output(), RadioButtons(description='問1/4', options=('ちょくちょく', 'しばしば', 'ぼちぼち'), value='ちょくちょく'),…"
      ]
     },
     "metadata": {},
     "output_type": "display_data"
    }
   ],
   "source": [
    "# vboxの使い方\n",
    "\n",
    "output=widgets.Output()\n",
    "with output:\n",
    "    print(\"親愛なChrome ユーザー様、あなたは10月23,2021のラッキービジターです\")\n",
    "    print(\"アンケートに答えていただいた方に、「ありがとう」を込めてApple iPhone 17 Max Proが当たるチャンスを差し上げます！\")\n",
    "    print(\"\\n問1/4:Chromeをどれぐらいの頻度で使いますか\")\n",
    "select=widgets.RadioButtons(\n",
    "    options=['ちょくちょく', 'しばしば', 'ぼちぼち'],\n",
    "    description=\"問1/4\"\n",
    ")\n",
    "button = widgets.Button(\n",
    "    description='提出',\n",
    ")\n",
    "\n",
    "display(widgets.VBox([output,select,button]))"
   ]
  },
  {
   "cell_type": "code",
   "execution_count": 88,
   "metadata": {},
   "outputs": [
    {
     "data": {
      "application/vnd.jupyter.widget-view+json": {
       "model_id": "490689a9ee444737a38bc408ca4fbef6",
       "version_major": 2,
       "version_minor": 0
      },
      "text/plain": [
       "VBox(children=(Output(), HBox(children=(RadioButtons(description='問1/4', options=('ちょくちょく', 'しばしば', 'ぼちぼち'), v…"
      ]
     },
     "metadata": {},
     "output_type": "display_data"
    }
   ],
   "source": [
    "# hboxの使い方\n",
    "\n",
    "output=widgets.Output()\n",
    "with output:\n",
    "    print(\"親愛なChrome ユーザー様、あなたは10月23,2021のラッキービジターです\")\n",
    "    print(\"アンケートに答えていただいた方に、「ありがとう」を込めてApple iPhone 17 Max Proが当たるチャンスを差し上げます！\")\n",
    "    print(\"\\n問1/4:Chromeをどれぐらいの頻度で使いますか\")\n",
    "select=widgets.RadioButtons(\n",
    "    options=['ちょくちょく', 'しばしば', 'ぼちぼち'],\n",
    "    description=\"問1/4\"\n",
    ")\n",
    "button = widgets.Button(\n",
    "    description='提出',\n",
    ")\n",
    "\n",
    "display(widgets.VBox([output,widgets.HBox([select,button])]))"
   ]
  },
  {
   "cell_type": "code",
   "execution_count": 111,
   "metadata": {},
   "outputs": [
    {
     "data": {
      "application/vnd.jupyter.widget-view+json": {
       "model_id": "5badacfafeeb46a7bae5127524365533",
       "version_major": 2,
       "version_minor": 0
      },
      "text/plain": [
       "Output()"
      ]
     },
     "metadata": {},
     "output_type": "display_data"
    },
    {
     "data": {
      "application/vnd.jupyter.widget-view+json": {
       "model_id": "3cb1f9cf3b5246b591e9ce1b95f1624f",
       "version_major": 2,
       "version_minor": 0
      },
      "text/plain": [
       "Output()"
      ]
     },
     "metadata": {},
     "output_type": "display_data"
    },
    {
     "data": {
      "application/vnd.jupyter.widget-view+json": {
       "model_id": "5638da00fae14d4fa8a2bc141454c379",
       "version_major": 2,
       "version_minor": 0
      },
      "text/plain": [
       "Output()"
      ]
     },
     "metadata": {},
     "output_type": "display_data"
    },
    {
     "data": {
      "application/vnd.jupyter.widget-view+json": {
       "model_id": "badb27d9df294010a91d070e33a7f4df",
       "version_major": 2,
       "version_minor": 0
      },
      "text/plain": [
       "RadioButtons(description='問1/3', options=('ちょくちょく', 'しばしば', 'ぼちぼち'), value='ちょくちょく')"
      ]
     },
     "metadata": {},
     "output_type": "display_data"
    },
    {
     "data": {
      "application/vnd.jupyter.widget-view+json": {
       "model_id": "605e3316739842cc967cc512f3594451",
       "version_major": 2,
       "version_minor": 0
      },
      "text/plain": [
       "Output()"
      ]
     },
     "metadata": {},
     "output_type": "display_data"
    },
    {
     "data": {
      "application/vnd.jupyter.widget-view+json": {
       "model_id": "a9eec6ba6ce34245bbe255a8b72ad374",
       "version_major": 2,
       "version_minor": 0
      },
      "text/plain": [
       "RadioButtons(description='問2/3', options=('マーク・ザッカーバーグ', 'ラリー・ペイジ', '家中仁'), value='マーク・ザッカーバーグ')"
      ]
     },
     "metadata": {},
     "output_type": "display_data"
    },
    {
     "data": {
      "application/vnd.jupyter.widget-view+json": {
       "model_id": "3acc6cb44395401485eebd40ca3c67c7",
       "version_major": 2,
       "version_minor": 0
      },
      "text/plain": [
       "Output()"
      ]
     },
     "metadata": {},
     "output_type": "display_data"
    },
    {
     "data": {
      "application/vnd.jupyter.widget-view+json": {
       "model_id": "574e4fa4d6094c9b88d7ee2abf52215e",
       "version_major": 2,
       "version_minor": 0
      },
      "text/plain": [
       "RadioButtons(description='問3/3', options=('アーノルドシュワルツネガー', 'バイデン', '岩野夏樹'), value='アーノルドシュワルツネガー')"
      ]
     },
     "metadata": {},
     "output_type": "display_data"
    },
    {
     "data": {
      "application/vnd.jupyter.widget-view+json": {
       "model_id": "db0af7d9528c412ea4a779cfe2765af3",
       "version_major": 2,
       "version_minor": 0
      },
      "text/plain": [
       "Button(description='提出', style=ButtonStyle())"
      ]
     },
     "metadata": {},
     "output_type": "display_data"
    }
   ],
   "source": [
    "# クイズメニュー\n",
    "\n",
    "def textbox(tex):\n",
    "    output=widgets.Output()\n",
    "    with output:\n",
    "        print(tex)\n",
    "    return output\n",
    "form=[]\n",
    "form.append( textbox(\"親愛なChrome ユーザー様、あなたは10月23,2021のラッキービジターです\") )\n",
    "form.append( textbox(\"クイズに答えていただいた方に、「ありがとう」を込めてApple iPhone 17 Max Proが当たるチャンスを差し上げます！\") )\n",
    "\n",
    "form.append( textbox(\"問1/3:Chromeをどれぐらいの頻度で使いますか\") )\n",
    "q1=widgets.RadioButtons(\n",
    "    options=['ちょくちょく', 'しばしば', 'ぼちぼち'],\n",
    "    description=\"問1/3\"\n",
    ")\n",
    "form.append( q1 )\n",
    "\n",
    "form.append( textbox(\"問2/3:Googleの創立者は?\") )\n",
    "q2=widgets.RadioButtons(\n",
    "    options=['マーク・ザッカーバーグ', 'ラリー・ペイジ', '家中仁'],\n",
    "    description=\"問2/3\"\n",
    ")\n",
    "form.append( q2)\n",
    "\n",
    "form.append( textbox(\"問3/3:アメリカの今の大統領は誰?\") )\n",
    "q3=widgets.RadioButtons(\n",
    "    options=['アーノルドシュワルツネガー', 'バイデン', '岩野夏樹'],\n",
    "    description=\"問3/3\"\n",
    ")\n",
    "form.append( q3)\n",
    "\n",
    "button=widgets.Button(description='提出')\n",
    "form.append(button)\n",
    "\n",
    "display(*form)"
   ]
  },
  {
   "cell_type": "markdown",
   "metadata": {},
   "source": [
    "# フィッシング詐欺を作ろう!! : 出力を読み取る"
   ]
  },
  {
   "cell_type": "code",
   "execution_count": 110,
   "metadata": {},
   "outputs": [
    {
     "data": {
      "text/plain": [
       "('ちょくちょく', 'マーク・ザッカーバーグ', 'アーノルドシュワルツネガー')"
      ]
     },
     "execution_count": 110,
     "metadata": {},
     "output_type": "execute_result"
    }
   ],
   "source": [
    "#出力の読み取り方\n",
    "q1.value,q2.value,q3.value"
   ]
  },
  {
   "cell_type": "code",
   "execution_count": 131,
   "metadata": {},
   "outputs": [
    {
     "data": {
      "application/vnd.jupyter.widget-view+json": {
       "model_id": "4726d71933664d80a158617896592b44",
       "version_major": 2,
       "version_minor": 0
      },
      "text/plain": [
       "Button(description='これはボタンです', style=ButtonStyle())"
      ]
     },
     "metadata": {},
     "output_type": "display_data"
    },
    {
     "data": {
      "application/vnd.jupyter.widget-view+json": {
       "model_id": "99e7812f79a14de5996af6962f3ef1a3",
       "version_major": 2,
       "version_minor": 0
      },
      "text/plain": [
       "Output()"
      ]
     },
     "metadata": {},
     "output_type": "display_data"
    }
   ],
   "source": [
    "# ボタンの監視方法\n",
    "button_tmp=widgets.Button(description='これはボタンです')\n",
    "output_tmp = widgets.Output()\n",
    "def on_button_clicked(b):\n",
    "    with output_tmp:\n",
    "        print(\"やめて.叩かないで!!\")\n",
    "display(button_tmp,output_tmp)\n",
    "button_tmp.on_click(on_button_clicked)"
   ]
  },
  {
   "cell_type": "code",
   "execution_count": 135,
   "metadata": {},
   "outputs": [
    {
     "data": {
      "application/vnd.jupyter.widget-view+json": {
       "model_id": "2d2350dc12d7477ab09d282635437c7b",
       "version_major": 2,
       "version_minor": 0
      },
      "text/plain": [
       "Output()"
      ]
     },
     "metadata": {},
     "output_type": "display_data"
    },
    {
     "data": {
      "application/vnd.jupyter.widget-view+json": {
       "model_id": "c92ed69d1e1d4be0ba2960e271f868d0",
       "version_major": 2,
       "version_minor": 0
      },
      "text/plain": [
       "Output()"
      ]
     },
     "metadata": {},
     "output_type": "display_data"
    },
    {
     "data": {
      "application/vnd.jupyter.widget-view+json": {
       "model_id": "3a53d8c32cd44db2a1cbf5a4c3145dc7",
       "version_major": 2,
       "version_minor": 0
      },
      "text/plain": [
       "Output()"
      ]
     },
     "metadata": {},
     "output_type": "display_data"
    },
    {
     "data": {
      "application/vnd.jupyter.widget-view+json": {
       "model_id": "06f8d2bda2044ccdaffaf785e7b3e136",
       "version_major": 2,
       "version_minor": 0
      },
      "text/plain": [
       "RadioButtons(description='問1/3', options=('ちょくちょく', 'しばしば', 'ぼちぼち'), value='ちょくちょく')"
      ]
     },
     "metadata": {},
     "output_type": "display_data"
    },
    {
     "data": {
      "application/vnd.jupyter.widget-view+json": {
       "model_id": "3079ea95a8f9473f8d9a16c94fcc3503",
       "version_major": 2,
       "version_minor": 0
      },
      "text/plain": [
       "Output()"
      ]
     },
     "metadata": {},
     "output_type": "display_data"
    },
    {
     "data": {
      "application/vnd.jupyter.widget-view+json": {
       "model_id": "1846d71d53844b6b9e3c150149f08318",
       "version_major": 2,
       "version_minor": 0
      },
      "text/plain": [
       "RadioButtons(description='問2/3', options=('マーク・ザッカーバーグ', 'ラリー・ペイジ', '家中仁'), value='マーク・ザッカーバーグ')"
      ]
     },
     "metadata": {},
     "output_type": "display_data"
    },
    {
     "data": {
      "application/vnd.jupyter.widget-view+json": {
       "model_id": "e157450402794b318fc19247ec6ad977",
       "version_major": 2,
       "version_minor": 0
      },
      "text/plain": [
       "Output()"
      ]
     },
     "metadata": {},
     "output_type": "display_data"
    },
    {
     "data": {
      "application/vnd.jupyter.widget-view+json": {
       "model_id": "413d94ce436d4efb8cbd8031f6db2d3d",
       "version_major": 2,
       "version_minor": 0
      },
      "text/plain": [
       "RadioButtons(description='問3/3', options=('アーノルドシュワルツネガー', 'バイデン', '岩野夏樹'), value='アーノルドシュワルツネガー')"
      ]
     },
     "metadata": {},
     "output_type": "display_data"
    },
    {
     "data": {
      "application/vnd.jupyter.widget-view+json": {
       "model_id": "ed5670faf9ef49839e6cdbe90f91db55",
       "version_major": 2,
       "version_minor": 0
      },
      "text/plain": [
       "Button(description='提出', style=ButtonStyle())"
      ]
     },
     "metadata": {},
     "output_type": "display_data"
    },
    {
     "data": {
      "application/vnd.jupyter.widget-view+json": {
       "model_id": "d74a56bf64f2452cb66cd81ccd9f1477",
       "version_major": 2,
       "version_minor": 0
      },
      "text/plain": [
       "Output()"
      ]
     },
     "metadata": {},
     "output_type": "display_data"
    }
   ],
   "source": [
    "# クイズメニュー\n",
    "\n",
    "def textbox(tex):\n",
    "    output=widgets.Output()\n",
    "    with output:\n",
    "        print(tex)\n",
    "    return output\n",
    "form=[]\n",
    "form.append( textbox(\"親愛なChrome ユーザー様、あなたは10月23,2021のラッキービジターです\") )\n",
    "form.append( textbox(\"クイズに答えていただいた方に、「ありがとう」を込めてApple iPhone 17 Max Proが当たるチャンスを差し上げます！\") )\n",
    "\n",
    "form.append( textbox(\"問1/3:Chromeをどれぐらいの頻度で使いますか\") )\n",
    "q1=widgets.RadioButtons(\n",
    "    options=['ちょくちょく', 'しばしば', 'ぼちぼち'],\n",
    "    description=\"問1/3\"\n",
    ")\n",
    "form.append( q1 )\n",
    "\n",
    "form.append( textbox(\"問2/3:Googleの創立者は?\") )\n",
    "q2=widgets.RadioButtons(\n",
    "    options=['マーク・ザッカーバーグ', 'ラリー・ペイジ', '家中仁'],\n",
    "    description=\"問2/3\"\n",
    ")\n",
    "form.append( q2)\n",
    "\n",
    "form.append( textbox(\"問3/3:アメリカの今の大統領は誰?\") )\n",
    "q3=widgets.RadioButtons(\n",
    "    options=['アーノルドシュワルツネガー', 'バイデン', '岩野夏樹'],\n",
    "    description=\"問3/3\"\n",
    ")\n",
    "form.append( q3)\n",
    "\n",
    "button=widgets.Button(description='提出')\n",
    "form.append(button)\n",
    "\n",
    "output_ans=widgets.Output()\n",
    "form.append(output_ans)\n",
    "\n",
    "def on_button_clicked(b):\n",
    "    output_ans.clear_output()\n",
    "    with output_ans:\n",
    "        score=(q1.value=='ちょくちょく')+(q2.value=='ラリー・ペイジ')+(q3.value==\"バイデン\")\n",
    "        print(f\"おめでとうございます!!3問中{score}問正解しました。あなたにiPhoneがもらえる特別なオファーがあります\")\n",
    "\n",
    "button.on_click(on_button_clicked)\n",
    "display(*form)"
   ]
  },
  {
   "cell_type": "markdown",
   "metadata": {},
   "source": [
    "# フィッシング詐欺を作ろう!! : 入力フォームを作ろう"
   ]
  },
  {
   "cell_type": "code",
   "execution_count": 170,
   "metadata": {},
   "outputs": [
    {
     "data": {
      "application/vnd.jupyter.widget-view+json": {
       "model_id": "0a3c0981530f450e81ca51cd7264be09",
       "version_major": 2,
       "version_minor": 0
      },
      "text/plain": [
       "Output()"
      ]
     },
     "metadata": {},
     "output_type": "display_data"
    },
    {
     "data": {
      "application/vnd.jupyter.widget-view+json": {
       "model_id": "6d46f8441a2549da86ab88f278b3c74a",
       "version_major": 2,
       "version_minor": 0
      },
      "text/plain": [
       "HTML(value='\\n<img src=\"https://m.media-amazon.com/images/I/81x1JO5euaL._AC_UL320_.jpg\" srcset=\"https://m.medi…"
      ]
     },
     "metadata": {},
     "output_type": "display_data"
    }
   ],
   "source": [
    "# htmlも貼れる\n",
    "\n",
    "# ソースはアマゾンからのコピペだけどどうせばれないだろ\n",
    "html_val=\"\"\"\n",
    "<img src=\"https://m.media-amazon.com/images/I/81x1JO5euaL._AC_UL320_.jpg\" srcset=\"https://m.media-amazon.com/images/I/81x1JO5euaL._AC_UL320_.jpg 1x, https://m.media-amazon.com/images/I/81x1JO5euaL._AC_UL480_FMwebp_QL65_.jpg 1.5x, https://m.media-amazon.com/images/I/81x1JO5euaL._AC_UL640_FMwebp_QL65_.jpg 2x, https://m.media-amazon.com/images/I/81x1JO5euaL._AC_UL800_FMwebp_QL65_.jpg 2.5x, https://m.media-amazon.com/images/I/81x1JO5euaL._AC_UL960_FMwebp_QL65_.jpg 3x\" alt=\"Apple iPhone 17 Max Pro 64GB ブラック SIMフリー (整備済み品)\" data-image-index=\"1\" data-image-load=\"\" data-image-latency=\"s-product-image\" data-image-source-density=\"1\"></div></a></span><div class=\"a-section a-spacing-none\"><div class=\"a-section a-spacing-none a-spacing-top-small\"><h2 class=\"a-size-mini a-spacing-none a-color-base s-line-clamp-2\"><a class=\"a-link-normal a-text-normal\" target=\"_blank\" href=\"/dp/B08R843S4T/?tag=nikukoppun-22\"><span class=\"a-size-base a-color-base a-text-normal\">Apple iPhone 17 Max Pro 64GB ブラック SIMフリー (整備済み品)</span> </a> </h2></div><div class=\"a-section a-spacing-none a-spacing-top-micro\"><div class=\"a-row a-size-small\"><span aria-label=\"5つ星のうち4.1\"><span class=\"a-declarative\" data-action=\"a-popover\" data-a-popover=\"{&quot;closeButton&quot;:false,&quot;closeButtonLabel&quot;:&quot;&quot;,&quot;position&quot;:&quot;triggerBottom&quot;,&quot;popoverLabel&quot;:&quot;&quot;,&quot;url&quot;:&quot;/review/widgets/average-customer-review/popover/ref=acr_search__popover?ie=UTF8&amp;asin=B08R843S4T&amp;ref=acr_search__popover&amp;contextId=search&quot;}\"><a href=\"javascript:void(0)\" role=\"button\" class=\"a-popover-trigger a-declarative\"><i class=\"a-icon a-icon-star-small a-star-small-4 aok-align-bottom\"><span class=\"a-icon-alt\">5つ星のうち4.1</span></i><i class=\"a-icon a-icon-popover\"></i></a></span> </span><span aria-label=\"330\"><a class=\"a-link-normal\" target=\"_blank\" href=\"/dp/B08R843S4T/?tag=nikukoppun-22#customerReviews\"><span class=\"a-size-base\">330</span> </a> </span></div></div><div class=\"a-section a-spacing-none a-spacing-top-small\"><div class=\"a-row a-size-base a-color-base\"><a class=\"a-size-base a-link-normal a-text-normal\" target=\"_blank\" href=\"/dp/B08R843S4T/?tag=nikukoppun-22\"><span class=\"a-price\" data-a-size=\"m\" data-a-color=\"price\"><span class=\"a-offscreen\"></span><span aria-hidden=\"true\"><span class=\"a-price-symbol\"></span><span class=\"a-price-whole\">￥100</span></span></span> </a> </div></div><div class=\"a-section a-spacing-none a-spacing-top-micro\"><div class=\"a-row a-size-base a-color-secondary s-align-children-center\"><div class=\"a-row s-align-children-center\"><span aria-label=\"2021/10/25 月曜日～2021/10/26 火曜日 にお届け\"><span class=\"a-text-bold\">2021/10/25 月曜日</span><span>～</span><span class=\"a-text-bold\">2021/10/26 火曜日</span><span> にお届け</span></span></div><div class=\"a-row\"><span aria-label=\"配送料無料\"><span>配送料無料</span></span></div></div><div class=\"a-row a-size-base a-color-secondary\"><span aria-label=\"残り3点 ご注文はお早めに\"><span class=\"a-size-base a-color-price\">残り3点 ご注文はお早めに</span></span></div></div><div class=\"a-section a-spacing-none a-spacing-top-mini\"><div class=\"a-row a-size-base a-color-secondary\"><span class=\"a-size-base a-color-secondary\"></span><br><span class=\"a-color-price\"></span><span class=\"a-letter-space\"></span>\n",
    "\"\"\"\n",
    "html=widgets.HTML(\n",
    "    value=html_val\n",
    ")\n",
    "\n",
    "display(textbox(\"おめでとうございます!!3問中3問正解しました。あなたにiPhoneがもらえる特別なオファーがあります\"),html)"
   ]
  },
  {
   "cell_type": "code",
   "execution_count": 164,
   "metadata": {},
   "outputs": [
    {
     "data": {
      "application/vnd.jupyter.widget-view+json": {
       "model_id": "5b20cba196794a0a9338e489b51e2ff1",
       "version_major": 2,
       "version_minor": 0
      },
      "text/plain": [
       "HBox(children=(Text(value='', description='姓'), Text(value='', description='名')))"
      ]
     },
     "metadata": {},
     "output_type": "display_data"
    },
    {
     "data": {
      "application/vnd.jupyter.widget-view+json": {
       "model_id": "2345380037a746faa971d8a368520da7",
       "version_major": 2,
       "version_minor": 0
      },
      "text/plain": [
       "Text(value='', description='メール')"
      ]
     },
     "metadata": {},
     "output_type": "display_data"
    },
    {
     "data": {
      "application/vnd.jupyter.widget-view+json": {
       "model_id": "5c64be996e9a4c37a79cd25d9fca6932",
       "version_major": 2,
       "version_minor": 0
      },
      "text/plain": [
       "HBox(children=(IntText(value=0, description='カード番号'), IntText(value=0), IntText(value=0), IntText(value=0)))"
      ]
     },
     "metadata": {},
     "output_type": "display_data"
    }
   ],
   "source": [
    "# 入力フォームも作れる\n",
    "\n",
    "name=widgets.HBox([widgets.Text(description=\"姓\"),widgets.Text(description=\"名\")])\n",
    "mail=widgets.Text(description=\"メール\")\n",
    "card=widgets.HBox([widgets.IntText(description='カード番号',value=None),widgets.IntText(),widgets.IntText(),widgets.IntText()])\n",
    "\n",
    "display(name,mail,card)\n",
    "# display(textbox(\"おめでとうございます!!3問中3問正解しました。あなたにiPhoneがもらえる特別なオファーがあります\"),html)"
   ]
  },
  {
   "cell_type": "code",
   "execution_count": 171,
   "metadata": {},
   "outputs": [
    {
     "data": {
      "application/vnd.jupyter.widget-view+json": {
       "model_id": "f20eb84c0d1246e5becd2301d3d79ad1",
       "version_major": 2,
       "version_minor": 0
      },
      "text/plain": [
       "Output()"
      ]
     },
     "metadata": {},
     "output_type": "display_data"
    },
    {
     "data": {
      "application/vnd.jupyter.widget-view+json": {
       "model_id": "a3e9f679c0dc4f33a5c4819b03003d4f",
       "version_major": 2,
       "version_minor": 0
      },
      "text/plain": [
       "HBox(children=(HTML(value='\\n<img src=\"https://m.media-amazon.com/images/I/81x1JO5euaL._AC_UL320_.jpg\" srcset=…"
      ]
     },
     "metadata": {},
     "output_type": "display_data"
    }
   ],
   "source": [
    "# まとめ\n",
    "\n",
    "# ソースはアマゾンからのコピペだけどどうせばれないだろ\n",
    "html_val=\"\"\"\n",
    "<img src=\"https://m.media-amazon.com/images/I/81x1JO5euaL._AC_UL320_.jpg\" srcset=\"https://m.media-amazon.com/images/I/81x1JO5euaL._AC_UL320_.jpg 1x, https://m.media-amazon.com/images/I/81x1JO5euaL._AC_UL480_FMwebp_QL65_.jpg 1.5x, https://m.media-amazon.com/images/I/81x1JO5euaL._AC_UL640_FMwebp_QL65_.jpg 2x, https://m.media-amazon.com/images/I/81x1JO5euaL._AC_UL800_FMwebp_QL65_.jpg 2.5x, https://m.media-amazon.com/images/I/81x1JO5euaL._AC_UL960_FMwebp_QL65_.jpg 3x\" alt=\"Apple iPhone 17 Max Pro 64GB ブラック SIMフリー (整備済み品)\" data-image-index=\"1\" data-image-load=\"\" data-image-latency=\"s-product-image\" data-image-source-density=\"1\"></div></a></span><div class=\"a-section a-spacing-none\"><div class=\"a-section a-spacing-none a-spacing-top-small\"><h2 class=\"a-size-mini a-spacing-none a-color-base s-line-clamp-2\"><a class=\"a-link-normal a-text-normal\" target=\"_blank\" href=\"/dp/B08R843S4T/?tag=nikukoppun-22\"><span class=\"a-size-base a-color-base a-text-normal\">Apple iPhone 17 Max Pro 64GB ブラック SIMフリー (整備済み品)</span> </a> </h2></div><div class=\"a-section a-spacing-none a-spacing-top-micro\"><div class=\"a-row a-size-small\"><span aria-label=\"5つ星のうち4.1\"><span class=\"a-declarative\" data-action=\"a-popover\" data-a-popover=\"{&quot;closeButton&quot;:false,&quot;closeButtonLabel&quot;:&quot;&quot;,&quot;position&quot;:&quot;triggerBottom&quot;,&quot;popoverLabel&quot;:&quot;&quot;,&quot;url&quot;:&quot;/review/widgets/average-customer-review/popover/ref=acr_search__popover?ie=UTF8&amp;asin=B08R843S4T&amp;ref=acr_search__popover&amp;contextId=search&quot;}\"><a href=\"javascript:void(0)\" role=\"button\" class=\"a-popover-trigger a-declarative\"><i class=\"a-icon a-icon-star-small a-star-small-4 aok-align-bottom\"><span class=\"a-icon-alt\">5つ星のうち4.1</span></i><i class=\"a-icon a-icon-popover\"></i></a></span> </span><span aria-label=\"330\"><a class=\"a-link-normal\" target=\"_blank\" href=\"/dp/B08R843S4T/?tag=nikukoppun-22#customerReviews\"><span class=\"a-size-base\">330</span> </a> </span></div></div><div class=\"a-section a-spacing-none a-spacing-top-small\"><div class=\"a-row a-size-base a-color-base\"><a class=\"a-size-base a-link-normal a-text-normal\" target=\"_blank\" href=\"/dp/B08R843S4T/?tag=nikukoppun-22\"><span class=\"a-price\" data-a-size=\"m\" data-a-color=\"price\"><span class=\"a-offscreen\"></span><span aria-hidden=\"true\"><span class=\"a-price-symbol\"></span><span class=\"a-price-whole\">￥100</span></span></span> </a> </div></div><div class=\"a-section a-spacing-none a-spacing-top-micro\"><div class=\"a-row a-size-base a-color-secondary s-align-children-center\"><div class=\"a-row s-align-children-center\"><span aria-label=\"2021/10/25 月曜日～2021/10/26 火曜日 にお届け\"><span class=\"a-text-bold\">2021/10/25 月曜日</span><span>～</span><span class=\"a-text-bold\">2021/10/26 火曜日</span><span> にお届け</span></span></div><div class=\"a-row\"><span aria-label=\"配送料無料\"><span>配送料無料</span></span></div></div><div class=\"a-row a-size-base a-color-secondary\"><span aria-label=\"残り3点 ご注文はお早めに\"><span class=\"a-size-base a-color-price\">残り3点 ご注文はお早めに</span></span></div></div><div class=\"a-section a-spacing-none a-spacing-top-mini\"><div class=\"a-row a-size-base a-color-secondary\"><span class=\"a-size-base a-color-secondary\"></span><br><span class=\"a-color-price\"></span><span class=\"a-letter-space\"></span>\"\"\"\n",
    "html=widgets.HTML(\n",
    "    value=html_val\n",
    ")\n",
    "\n",
    "name=widgets.HBox([widgets.Text(description=\"姓\"),widgets.Text(description=\"名\")])\n",
    "mail=widgets.Text(description=\"メール\")\n",
    "card=widgets.HBox([widgets.IntText(description='カード番号',value=None),widgets.IntText(),widgets.IntText(),widgets.IntText()])\n",
    "button_info=button=widgets.Button(description='提出')\n",
    "form=widgets.VBox([name,mail,card,button_info])\n",
    "\n",
    "display(\n",
    "    print(\"おめでとうございます!!3問中3問正解しました。あなたにiPhoneがもらえる特別なオファーがあります\"),\n",
    "    widgets.HBox([html,form])\n",
    ")"
   ]
  },
  {
   "cell_type": "markdown",
   "metadata": {},
   "source": [
    "# フィッシング詐欺を作ろう!! : なんか全体的にそれっぽくしよう"
   ]
  },
  {
   "cell_type": "code",
   "execution_count": 3,
   "metadata": {},
   "outputs": [
    {
     "data": {
      "application/vnd.jupyter.widget-view+json": {
       "model_id": "61290621314b41198f8022bf388ad9d0",
       "version_major": 2,
       "version_minor": 0
      },
      "text/plain": [
       "Output()"
      ]
     },
     "metadata": {},
     "output_type": "display_data"
    }
   ],
   "source": [
    "class gui_question():\n",
    "    def __init__(self,options,text):\n",
    "        self.RadioButton=widgets.RadioButtons(\n",
    "            options=options\n",
    "        )\n",
    "        self.button=widgets.Button(description='提出')\n",
    "        self.text=text\n",
    "\n",
    "    def display(self,_):\n",
    "        output.clear_output()\n",
    "        with output:\n",
    "            print(self.text)\n",
    "            display(self.RadioButton, self.button)\n",
    "        display(output)\n",
    "\n",
    "class gui_purchase():\n",
    "    def __init__(self):\n",
    "        self.html=widgets.HTML(\n",
    "            value=\"\"\"<img src=\"https://m.media-amazon.com/images/I/81x1JO5euaL._AC_UL320_.jpg\" srcset=\"https://m.media-amazon.com/images/I/81x1JO5euaL._AC_UL320_.jpg 1x, https://m.media-amazon.com/images/I/81x1JO5euaL._AC_UL480_FMwebp_QL65_.jpg 1.5x, https://m.media-amazon.com/images/I/81x1JO5euaL._AC_UL640_FMwebp_QL65_.jpg 2x, https://m.media-amazon.com/images/I/81x1JO5euaL._AC_UL800_FMwebp_QL65_.jpg 2.5x, https://m.media-amazon.com/images/I/81x1JO5euaL._AC_UL960_FMwebp_QL65_.jpg 3x\" alt=\"Apple iPhone 17 Max Pro 64GB ブラック SIMフリー (整備済み品)\" data-image-index=\"1\" data-image-load=\"\" data-image-latency=\"s-product-image\" data-image-source-density=\"1\"></div></a></span><div class=\"a-section a-spacing-none\"><div class=\"a-section a-spacing-none a-spacing-top-small\"><h2 class=\"a-size-mini a-spacing-none a-color-base s-line-clamp-2\"><a class=\"a-link-normal a-text-normal\" target=\"_blank\" href=\"/dp/B08R843S4T/?tag=nikukoppun-22\"><span class=\"a-size-base a-color-base a-text-normal\">Apple iPhone 17 Max Pro 64GB ブラック SIMフリー (整備済み品)</span> </a> </h2></div><div class=\"a-section a-spacing-none a-spacing-top-micro\"><div class=\"a-row a-size-small\"><span aria-label=\"5つ星のうち4.1\"><span class=\"a-declarative\" data-action=\"a-popover\" data-a-popover=\"{&quot;closeButton&quot;:false,&quot;closeButtonLabel&quot;:&quot;&quot;,&quot;position&quot;:&quot;triggerBottom&quot;,&quot;popoverLabel&quot;:&quot;&quot;,&quot;url&quot;:&quot;/review/widgets/average-customer-review/popover/ref=acr_search__popover?ie=UTF8&amp;asin=B08R843S4T&amp;ref=acr_search__popover&amp;contextId=search&quot;}\"><a href=\"javascript:void(0)\" role=\"button\" class=\"a-popover-trigger a-declarative\"><i class=\"a-icon a-icon-star-small a-star-small-4 aok-align-bottom\"><span class=\"a-icon-alt\">5つ星のうち4.1</span></i><i class=\"a-icon a-icon-popover\"></i></a></span> </span><span aria-label=\"330\"><a class=\"a-link-normal\" target=\"_blank\" href=\"/dp/B08R843S4T/?tag=nikukoppun-22#customerReviews\"><span class=\"a-size-base\">330</span> </a> </span></div></div><div class=\"a-section a-spacing-none a-spacing-top-small\"><div class=\"a-row a-size-base a-color-base\"><a class=\"a-size-base a-link-normal a-text-normal\" target=\"_blank\" href=\"/dp/B08R843S4T/?tag=nikukoppun-22\"><span class=\"a-price\" data-a-size=\"m\" data-a-color=\"price\"><span class=\"a-offscreen\"></span><span aria-hidden=\"true\"><span class=\"a-price-symbol\"></span><span class=\"a-price-whole\">￥100</span></span></span> </a> </div></div><div class=\"a-section a-spacing-none a-spacing-top-micro\"><div class=\"a-row a-size-base a-color-secondary s-align-children-center\"><div class=\"a-row s-align-children-center\"><span aria-label=\"2021/10/25 月曜日～2021/10/26 火曜日 にお届け\"><span class=\"a-text-bold\">2021/10/25 月曜日</span><span>～</span><span class=\"a-text-bold\">2021/10/26 火曜日</span><span> にお届け</span></span></div><div class=\"a-row\"><span aria-label=\"配送料無料\"><span>配送料無料</span></span></div></div><div class=\"a-row a-size-base a-color-secondary\"><span aria-label=\"残り3点 ご注文はお早めに\"><span class=\"a-size-base a-color-price\">残り3点 ご注文はお早めに</span></span></div></div><div class=\"a-section a-spacing-none a-spacing-top-mini\"><div class=\"a-row a-size-base a-color-secondary\"><span class=\"a-size-base a-color-secondary\"></span><br><span class=\"a-color-price\"></span><span class=\"a-letter-space\"></span>\"\"\"\n",
    "        )\n",
    "        \n",
    "        name=widgets.HBox([widgets.Text(description=\"姓\"),widgets.Text(description=\"名\")])\n",
    "        mail=widgets.Text(description=\"メール\")\n",
    "        card=widgets.HBox([widgets.IntText(description='カード番号',value=None),widgets.IntText(),widgets.IntText(),widgets.IntText()])\n",
    "        button=widgets.Button(description='購入')\n",
    "        self.form=widgets.VBox([name,mail,card,button])\n",
    "    def loading():\n",
    "        bar=widgets.IntProgress(\n",
    "            value=0,\n",
    "            min=0,\n",
    "            max=10,\n",
    "            description='Loading:',\n",
    "        )\n",
    "        with output:\n",
    "            print(\"答えを送信中\")\n",
    "            display(bar)\n",
    "        display(output)\n",
    "        for i in range(11):\n",
    "            time.sleep(0.2)\n",
    "            bar.value=i\n",
    "    \n",
    "    def display(self,score):\n",
    "        output.clear_output()\n",
    "        # 無駄なロード画面\n",
    "        bar=widgets.IntProgress(\n",
    "            value=0,\n",
    "            min=0,\n",
    "            max=10,\n",
    "            description='Loading:',\n",
    "        )\n",
    "        with output:\n",
    "            print(\"答えを送信中\")\n",
    "            display(bar)\n",
    "        display(output)\n",
    "        for i in range(11):\n",
    "            time.sleep(0.1)\n",
    "            bar.value=i\n",
    "        \n",
    "        #アンケートフォーム\n",
    "        output.clear_output()\n",
    "        with output:\n",
    "            print(f\"おめでとうございます!!\\n({score}/3)の正解をしました。\\n10分間だけ有効なiPhoneがもらえる特別なオファーがあります\")\n",
    "            display(widgets.HBox([self.html,self.form]))\n",
    "\n",
    "output=widgets.Output()\n",
    "\n",
    "text_q1=\"\"\"ARISEメンバーシップビジターリワード\n",
    "\n",
    "ARISEのあなた、当選おめでとうございます！（1）件のギフトが当選しました！\n",
    "「ありがとう」を込めてApple iPhone 17 Max Proが当たる幸運なチャンスを差し上げます！\n",
    "他の幸運なユーザーに商品を受け取る権利が移行するまで1分30秒です！幸運をお祈りします！\n",
    "商品を受け取るには3つの簡単な質問にお答え下さい。\n",
    "\n",
    "問1/3:あなたが日頃使うブラウザの種類は?\n",
    "\"\"\"\n",
    "option_q1=['chrome', 'internet explorar', 'lunascape']\n",
    "q1=gui_question(option_q1,text_q1)\n",
    "\n",
    "text_q2=\"問2/3:Googleの創立者は?\"\n",
    "option_q2=['マーク・ザッカーバーグ', 'ラリー・ペイジ', '家中仁']\n",
    "q2=gui_question(option_q2,text_q2)\n",
    "\n",
    "text_q3=\"問3/3:アメリカの今の大統領は誰?\"\n",
    "option_q3=['アーノルドシュワルツネガー', 'バイデン', '岩野夏樹']\n",
    "q3=gui_question(option_q3,text_q3)\n",
    "\n",
    "purchase_page=gui_purchase()\n",
    "\n",
    "q1.display(0)\n",
    "q1.button.on_click(q2.display)\n",
    "q2.button.on_click(q3.display)\n",
    "\n",
    "def purchase_page_func(_):\n",
    "    # score=0\n",
    "    score=(q1.RadioButton.value=='chrome')+(q2.RadioButton.value=='ラリー・ペイジ')+(q3.RadioButton.value==\"バイデン\")\n",
    "    purchase_page.display(score)\n",
    "q3.button.on_click(purchase_page_func)\n"
   ]
  }
 ],
 "metadata": {
  "accelerator": "TPU",
  "colab": {
   "collapsed_sections": [],
   "name": "SetTag.ipynb",
   "provenance": []
  },
  "interpreter": {
   "hash": "63fd5069d213b44bf678585dea6b12cceca9941eaf7f819626cde1f2670de90d"
  },
  "kernelspec": {
   "display_name": "Python 3.9.5 64-bit",
   "name": "python3"
  },
  "language_info": {
   "codemirror_mode": {
    "name": "ipython",
    "version": 3
   },
   "file_extension": ".py",
   "mimetype": "text/x-python",
   "name": "python",
   "nbconvert_exporter": "python",
   "pygments_lexer": "ipython3",
   "version": "3.9.5"
  },
  "metadata": {
   "interpreter": {
    "hash": "63fd5069d213b44bf678585dea6b12cceca9941eaf7f819626cde1f2670de90d"
   }
  }
 },
 "nbformat": 4,
 "nbformat_minor": 4
}
